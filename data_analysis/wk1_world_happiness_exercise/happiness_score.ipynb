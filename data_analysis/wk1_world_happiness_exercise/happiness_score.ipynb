{
 "cells": [
  {
   "cell_type": "markdown",
   "metadata": {
    "colab_type": "text",
    "id": "TBkWHIqllqYy"
   },
   "source": [
    "![alt text](https://cdn.newsbook.com.mt/wp-content/uploads/2019/03/0f40cb07fbf640d883755f420e91f6ec.jpg)\n",
    "\n",
    "# Introduction \n",
    "\n",
    "### Welcome\n",
    "I will like to take this opportunity to thank you for taking the initiative to work on your learning. Online courses and lectures do a great job in feeding you valuable knowledge but do you actually understand? If you are the person who read through a math textbook without lifting a pen, you are not alone! People tend to assume they know something but the only way to prove it is applying. In this walkthrough I will guide you and explain it to you as much as possible. If you still have any question please message me or drop the question on discord. This is not a perfect notebook. There may be flaws or errors and I do apologise beforehand. Kindly let me know and I will fix it immediately.\n",
    "\n",
    "### Context \n",
    "This dataset is obtained from [Kaggle](https://www.kaggle.com/unsdsn/world-happiness). I have modified the data to contain only data from 2015 to 2017. This report ranks 155 countries by their happiness level through 6 indicators:\n",
    "\n",
    "- economic production\n",
    "- social support\n",
    "- life expectancy \n",
    "- freedom \n",
    "- absence of corruption\n",
    "- generosity\n",
    "\n",
    "The last indicator is dystopia residual. Dystopia residual is \"the Dystopia Happiness Score(1.85) + the Residual value or the unexplained value for each country\".  Dystopia is a made up country that has the world's least happiest people. This made up country is high in corruption, low in average income, employment, etc. Dystopia residual is used as a benchmark and should be used side-by-side with the happiness score. \n",
    "- Low dystopia residual = low level of happiness \n",
    "- high dystopia residual = high level of happiness.\n",
    "\n",
    "### Understanding the column data\n",
    "- Country\n",
    "- Happiness rank \n",
    "- Happiness score \n",
    " * This is obtained from a sample of population. The survey-taker asked the respondent to rate their happiness from 1 to 10. \n",
    "- Economic (GDP per cap)\n",
    " * Extend of GDP that contributes to the happiness score\n",
    "- Family\n",
    " * To what extend does family contribute to the happiness score \n",
    "- Health\n",
    " * Extend of health (life expectancy) contribute to the happiness score \n",
    "- Freedom\n",
    " * Extend of freedom that contribute to happiness. The freedom here represents the freedom of speech, freedom to pursue what we want, etc\n",
    "- Trust (Government corruption)\n",
    " * Extend of trust with regards to government corruption that contribute to happiness score \n",
    "- Generosity \n",
    " * Extend of generosity that contribute to happiness score \n",
    "- dystopia residual\n",
    "- Year\n",
    "\n",
    "#### Do note:\n",
    "$ Happiness Score = Economic (GDP per cap) + Family + Health + Freedom + Trust + Generosity + Dystopia Residual $\n",
    "\n",
    "## Let's get started!"
   ]
  },
  {
   "cell_type": "markdown",
   "metadata": {
    "colab_type": "text",
    "id": "57s-U26dFlvm"
   },
   "source": []
  },
  {
   "cell_type": "code",
   "execution_count": null,
   "metadata": {
    "colab": {},
    "colab_type": "code",
    "id": "09TulspcO-gT"
   },
   "outputs": [],
   "source": [
    "# Importing packages\n",
    "import pandas as pd\n",
    "import numpy as np\n",
    "import matplotlib.pyplot as plt\n",
    "import seaborn as sns \n"
   ]
  },
  {
   "cell_type": "markdown",
   "metadata": {
    "colab_type": "text",
    "id": "MudjIXQsQ2v2"
   },
   "source": [
    "## Explanation of packages (feel free to skip if you are familiar)\n",
    "### Pandas\n",
    "Pandas works great on tabular (presented in tables or columns) data. These data can be merged, manipulated, reshaped and combined in just a few lines of code. \n",
    "\n",
    "### Numpy\n",
    "Numpy works specifically on [N-dimensional arrays](https://www.w3resource.com/numpy/ndarray/index.php).  \n",
    "\n",
    "### Matplotlib\n",
    "Library for creating static, animated, and interactive visualizations in Python.\n",
    "- I will describe matplotlib as a manual car.\n",
    "\n",
    "### Seaborn\n",
    "Seaborn is a Python data visualization library based on matplotlib. It provides a high-level interface for drawing attractive and informative statistical graphics. In short, it allows you to make quick plot with just a line of code and you do not need to worry about customisation of plots (eg: working with colour palette). We will be using Seaborn for most of our plots and do feel free to use matplotlib if you are comfortable with that. I usually use matplotlib when I need to customise the plot to my flavor. \n",
    "- I will describe seaborn as an auto car."
   ]
  },
  {
   "cell_type": "code",
   "execution_count": 7,
   "metadata": {
    "colab": {
     "base_uri": "https://localhost:8080/",
     "height": 76,
     "resources": {
      "http://localhost:8080/nbextensions/google.colab/files.js": {
       "data": "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",
       "headers": [
        [
         "content-type",
         "application/javascript"
        ]
       ],
       "ok": true,
       "status": 200,
       "status_text": ""
      }
     }
    },
    "colab_type": "code",
    "id": "aog3gW_rS2nJ",
    "outputId": "737731e2-5ae0-48e3-cee3-33acac8bc7f6"
   },
   "outputs": [
    {
     "data": {
      "text/html": [
       "\n",
       "     <input type=\"file\" id=\"files-ce26c83b-8937-4c95-b9f3-ab5d7fb5e6ca\" name=\"files[]\" multiple disabled />\n",
       "     <output id=\"result-ce26c83b-8937-4c95-b9f3-ab5d7fb5e6ca\">\n",
       "      Upload widget is only available when the cell has been executed in the\n",
       "      current browser session. Please rerun this cell to enable.\n",
       "      </output>\n",
       "      <script src=\"/nbextensions/google.colab/files.js\"></script> "
      ],
      "text/plain": [
       "<IPython.core.display.HTML object>"
      ]
     },
     "metadata": {
      "tags": []
     },
     "output_type": "display_data"
    },
    {
     "name": "stdout",
     "output_type": "stream",
     "text": [
      "Saving World_Happiness_2015_2017.csv to World_Happiness_2015_2017.csv\n"
     ]
    }
   ],
   "source": [
    "# Importing dataset into colab\n",
    "# As we are working with colab, we will need to use the following code to import the dataset into this notebook\n",
    "from google.colab import files \n",
    "uploaded = files.upload()"
   ]
  },
  {
   "cell_type": "code",
   "execution_count": 8,
   "metadata": {
    "colab": {
     "base_uri": "https://localhost:8080/",
     "height": 237
    },
    "colab_type": "code",
    "id": "9irmZe8jV_IL",
    "outputId": "7f173aad-8b98-4686-e339-0a9c2c3685ec"
   },
   "outputs": [
    {
     "data": {
      "text/html": [
       "<div>\n",
       "<style scoped>\n",
       "    .dataframe tbody tr th:only-of-type {\n",
       "        vertical-align: middle;\n",
       "    }\n",
       "\n",
       "    .dataframe tbody tr th {\n",
       "        vertical-align: top;\n",
       "    }\n",
       "\n",
       "    .dataframe thead th {\n",
       "        text-align: right;\n",
       "    }\n",
       "</style>\n",
       "<table border=\"1\" class=\"dataframe\">\n",
       "  <thead>\n",
       "    <tr style=\"text-align: right;\">\n",
       "      <th></th>\n",
       "      <th>Country</th>\n",
       "      <th>Happiness Rank</th>\n",
       "      <th>Happiness Score</th>\n",
       "      <th>Economy (GDP per Capita)</th>\n",
       "      <th>Family</th>\n",
       "      <th>Health (Life Expectancy)</th>\n",
       "      <th>Freedom</th>\n",
       "      <th>Trust (Government Corruption)</th>\n",
       "      <th>Generosity</th>\n",
       "      <th>Dystopia Residual</th>\n",
       "      <th>Year</th>\n",
       "    </tr>\n",
       "  </thead>\n",
       "  <tbody>\n",
       "    <tr>\n",
       "      <th>0</th>\n",
       "      <td>Switzerland</td>\n",
       "      <td>1</td>\n",
       "      <td>7.587</td>\n",
       "      <td>1.39651</td>\n",
       "      <td>1.34951</td>\n",
       "      <td>0.94143</td>\n",
       "      <td>0.66557</td>\n",
       "      <td>0.41978</td>\n",
       "      <td>0.29678</td>\n",
       "      <td>2.51738</td>\n",
       "      <td>2015</td>\n",
       "    </tr>\n",
       "    <tr>\n",
       "      <th>1</th>\n",
       "      <td>Iceland</td>\n",
       "      <td>2</td>\n",
       "      <td>7.561</td>\n",
       "      <td>1.30232</td>\n",
       "      <td>1.40223</td>\n",
       "      <td>0.94784</td>\n",
       "      <td>0.62877</td>\n",
       "      <td>0.14145</td>\n",
       "      <td>0.43630</td>\n",
       "      <td>2.70201</td>\n",
       "      <td>2015</td>\n",
       "    </tr>\n",
       "    <tr>\n",
       "      <th>2</th>\n",
       "      <td>Denmark</td>\n",
       "      <td>3</td>\n",
       "      <td>7.527</td>\n",
       "      <td>1.32548</td>\n",
       "      <td>1.36058</td>\n",
       "      <td>0.87464</td>\n",
       "      <td>0.64938</td>\n",
       "      <td>0.48357</td>\n",
       "      <td>0.34139</td>\n",
       "      <td>2.49204</td>\n",
       "      <td>2015</td>\n",
       "    </tr>\n",
       "    <tr>\n",
       "      <th>3</th>\n",
       "      <td>Norway</td>\n",
       "      <td>4</td>\n",
       "      <td>7.522</td>\n",
       "      <td>1.45900</td>\n",
       "      <td>1.33095</td>\n",
       "      <td>0.88521</td>\n",
       "      <td>0.66973</td>\n",
       "      <td>0.36503</td>\n",
       "      <td>0.34699</td>\n",
       "      <td>2.46531</td>\n",
       "      <td>2015</td>\n",
       "    </tr>\n",
       "    <tr>\n",
       "      <th>4</th>\n",
       "      <td>Canada</td>\n",
       "      <td>5</td>\n",
       "      <td>7.427</td>\n",
       "      <td>1.32629</td>\n",
       "      <td>1.32261</td>\n",
       "      <td>0.90563</td>\n",
       "      <td>0.63297</td>\n",
       "      <td>0.32957</td>\n",
       "      <td>0.45811</td>\n",
       "      <td>2.45176</td>\n",
       "      <td>2015</td>\n",
       "    </tr>\n",
       "  </tbody>\n",
       "</table>\n",
       "</div>"
      ],
      "text/plain": [
       "       Country  Happiness Rank  ...  Dystopia Residual  Year\n",
       "0  Switzerland               1  ...            2.51738  2015\n",
       "1      Iceland               2  ...            2.70201  2015\n",
       "2      Denmark               3  ...            2.49204  2015\n",
       "3       Norway               4  ...            2.46531  2015\n",
       "4       Canada               5  ...            2.45176  2015\n",
       "\n",
       "[5 rows x 11 columns]"
      ]
     },
     "execution_count": 8,
     "metadata": {
      "tags": []
     },
     "output_type": "execute_result"
    }
   ],
   "source": [
    "# After uploading the file, we are able to see the name of the file saved as \"World_Happiness_2015_2017.csv\"\n",
    "# Use pd.read_csv() to read the file and assign it to variable call \"data\"\n",
    "data = pd.read_csv('World_Happiness_2015_2017.csv')\n",
    "\n",
    "# We then use data.head() to see the first 5 rows of data\n",
    "data.head()"
   ]
  },
  {
   "cell_type": "markdown",
   "metadata": {
    "colab_type": "text",
    "id": "LBOTNwwWYABW"
   },
   "source": [
    "### Looking into data.shape() to see rows and columns\n",
    "- We should be able to see (470,11) as output. 470 represents number of rows while 11 represents number of columns.\n",
    "- We then use data.dtypes to identify the type for each column. Type can come in many form: str, int, float, object, etc. \n",
    "- The main purpose for this is that we will need to change the type if we want to manipulate data. For instance if my happiness ranking is a string type, I may have issue adding things up or perform statistical analysis on it. I will need to change it to int. This can be done using pandas.DataFrame.astype(). We will change the year column from int to float in the following exercise (Reason: just for you to practise. We will change back to Int after that)\n"
   ]
  },
  {
   "cell_type": "code",
   "execution_count": null,
   "metadata": {
    "colab": {},
    "colab_type": "code",
    "id": "tt-kA3elXutb"
   },
   "outputs": [],
   "source": [
    "# Then what I do next is look into shape using data.shape(). This will tell me how many rows and columns there are.\n",
    "data.shape"
   ]
  },
  {
   "cell_type": "code",
   "execution_count": null,
   "metadata": {
    "colab": {},
    "colab_type": "code",
    "id": "4lCEgkVRYor-"
   },
   "outputs": [],
   "source": [
    "# Now lets see data types using data.dtypes\n",
    "data.dtypes"
   ]
  },
  {
   "cell_type": "code",
   "execution_count": null,
   "metadata": {
    "colab": {},
    "colab_type": "code",
    "id": "lU1DiU_7Z2bG"
   },
   "outputs": [],
   "source": [
    "# Now lets change the data type of country from object to string \n",
    "data['Year'] = data['Year'].astype('float')\n",
    "data['Country'] = data['Country'].astype('str')\n",
    "\n",
    "# Now let's check if we did it right\n",
    "data.dtypes"
   ]
  },
  {
   "cell_type": "code",
   "execution_count": null,
   "metadata": {
    "colab": {},
    "colab_type": "code",
    "id": "Tl1LtxosazVr"
   },
   "outputs": [],
   "source": [
    "# Have a look at data\n",
    "data.head()"
   ]
  },
  {
   "cell_type": "code",
   "execution_count": null,
   "metadata": {
    "colab": {},
    "colab_type": "code",
    "id": "DWzYxEpnSM69"
   },
   "outputs": [],
   "source": [
    "# Yikes! Year in decimals! Let's change it back to int!\n",
    "data['Year'] = data['Year'].astype('int')"
   ]
  },
  {
   "cell_type": "markdown",
   "metadata": {
    "colab_type": "text",
    "id": "PMeVXUIAcSGF"
   },
   "source": [
    "### Looking into null values. There are numerous way you can deal with null, NaN or unknown values.\n",
    "- Omitting rows with null/NaN values\n",
    "  * This helps our output to be more robust and accurate\n",
    "  * However this should only be done when we have sufficient data. If we have more than 50% NaN values, we may not be able to omit the affected rows.\n",
    "- Replace these NaN and null values with mean or median\n",
    " * This saves us the worry for loss of information\n",
    " * This does increase our data variance and bias\n",
    "\n",
    "To identify null values, we use **data.isnull().sum()**\n",
    "- isnull() returns boolean (True or False). Is this value null? Yes or No?\n",
    "- sum() calculate the number of True\n",
    "- For this practice I have personally picked one dataset with no null value. So you should see 0 for each column."
   ]
  },
  {
   "cell_type": "code",
   "execution_count": null,
   "metadata": {
    "colab": {},
    "colab_type": "code",
    "id": "7LgzIeGDejfj"
   },
   "outputs": [],
   "source": [
    "# Lets calculate the number of null values\n",
    "data.isnull().sum()"
   ]
  },
  {
   "cell_type": "markdown",
   "metadata": {
    "colab_type": "text",
    "id": "uwpx5pBGfY8l"
   },
   "source": [
    "## Next up! Plotting!\n",
    "- Here, we will want to see the relationship among attributes. My favourite way to visualise that is through seaborn's pairplot.\n",
    "- This can be done using sns.pairplot(). \n",
    " * I then adjust the layout to include a title call \"FacetGrid plot\", with fontsize of 20. I use adjust to adjust the spacing of margin and plot. You can experiment the number to your favor.\n",
    " * Note: If you are using dark theme on google colab you may need to change to light in order to see the axis name. "
   ]
  },
  {
   "cell_type": "code",
   "execution_count": null,
   "metadata": {
    "colab": {},
    "colab_type": "code",
    "id": "U4T6rWiAf8mp"
   },
   "outputs": [],
   "source": [
    "g = sns.pairplot(data)\n",
    "g.fig.suptitle(\"Prasham's FacetGrid plot\", fontsize = 20)\n",
    "g.fig.subplots_adjust(top= 0.9,);"
   ]
  },
  {
   "cell_type": "markdown",
   "metadata": {
    "colab_type": "text",
    "id": "VxRBvdNShwRM"
   },
   "source": [
    "## What do we see here?\n",
    "I need you to take 1-2 mins to just look at the plot. It's messy at first but you will get it.\n",
    "\n",
    "We see two types of plot. \n",
    "- Histograms\n",
    " * Take some time to look at the x axis and y axis of the histogram. There are the same! This shows the distribution of each attribute.\n",
    "- Scatter plot\n",
    " * This shows the relationship between 2 attributes. We can see a strong linear correlation between Happiness Rank and Happiness Score. That is because the rank is determined by the score. \n",
    "\n",
    "What we are interested in finding out is the correlation between happiness score and each attribute. From the plot if we look at the second column from the left (Happiness score on x-axis), we do notice that econimic, family and health have positive linear correlation. Well, the truth is what you see may be different from what others see. We need to prove it through some form of numeric values and this tutorial will be focused on that."
   ]
  },
  {
   "cell_type": "markdown",
   "metadata": {
    "colab_type": "text",
    "id": "-UnwK2nGpciB"
   },
   "source": [
    "## Correlation between Happiness score and economic \n",
    "\n",
    "### What I plan to do:\n",
    "- Assign the required attribute as a list and assign that to a variable\n",
    "- Use .corr() to find correlation. \n",
    " * If you look at the [documentation](https://pandas.pydata.org/pandas-docs/stable/reference/api/pandas.DataFrame.corr.html), you will notice the default test used is pearson. Besides Pearson distribution, you get to choose between Kendall and Spearman.\n",
    "\n",
    "### Pearson distribution\n",
    "Pearson's correlation is a measure of the linear relationship between two continuous random variables. A perfect positive linear correlation will be 1. If value on x increases, value of y increases. A perfect negative correlation is -1. If X increases, Y decrease. Before we run any stats model we need to look into the assumptions.\n",
    "#### Assumptions for Pearson\n",
    "- Each variable needs to be continuous and not discrete. Continuous values have decimals and has a scale. Things like weight and height are continuous (10.02 KG, 1.002 cm). Decrete are fix numbers. Things like I saw 2 eggs on the table or number of visits to the doctor (1,2,3,etc). No such thing as I saw 3.42 eggs on the table or I have visited the doctor 4.3 times this year.\n",
    "- Next is related pair. Related pairs refers to the pairs of variables. Each participant or observation should have a pair of values. So if the correlation was between GPA and SAT score, then each observation used should have both a GPA and a SAT value. Using this example I can only include Peter, Tom and Sam into the sample if they have both GPA and SAT score. If Sam only has GPA, I can't use Pearson.\n",
    "- No outliers. Absence of outliers refers to not having outliers in either variable. Having an outlier can skew the results of the correlation by pulling the line of best fit formed by the correlation too far in one direction or another.  Typically, an outlier is defined as a value that is 3.29 standard deviations from the mean,or a standardized value of less than ±3.29.\n",
    "- Linearity and homoscedasticity refer to the shape of the values formed by the scatterplot. For linearity, a “straight line” relationship between the variable should be formed.  If a line were to be drawn between all the dots going from left to right, the line should be straight and not curved. Homoscedasticity refers to the distance between the points to that straight line. The shape of the scatterplot should be tube-like in shape. If the shape is cone-like, then homoskedasticity would not be met. \n",
    "\n",
    "Credit to [S.SWAIN](https://www.researchgate.net/profile/S_Swain2) from Researchgate that did a wonderful explanation! \n",
    "\n",
    "For this practice, we will just work with Pearson."
   ]
  },
  {
   "cell_type": "code",
   "execution_count": null,
   "metadata": {
    "colab": {},
    "colab_type": "code",
    "id": "aKtTB50YrhVy"
   },
   "outputs": [],
   "source": [
    "# Creating a list of attributes we want (just copy the column name)\n",
    "econ_happiness = ['Happiness Score','Economy (GDP per Capita)']\n",
    "\n",
    "# Creating a dataframe that only contains these attributes\n",
    "econ_corr = data[econ_happiness]\n",
    "\n",
    "# Finding correlation\n",
    "data['Happiness Score'].corr(data['Economy (GDP per Capita)'])"
   ]
  },
  {
   "cell_type": "markdown",
   "metadata": {
    "colab_type": "text",
    "id": "idtYP_QEysVm"
   },
   "source": [
    "## What do we see here?\n",
    "- Before we interpret the result we need to ask ourselves how high should the correlation coefficient be to be significant. How close to -1 or 1? For this purpose let me introduce you to $R^2$!\n",
    "- Why is $R^2$ better than R?\n",
    " * Interpretation is easy.\n",
    " * For this exercise we realise that the $R^2$ value is 0.617. This tells us that 61.7% of variation can be explained by the relationship between happiness score and Economy. \n",
    "\n",
    " ![alt text](https://cdn.guff.com/site_1/media/21000/20041/items/c26faf8ac4163c7d0ceac1c8.jpg)\n",
    "   * **House Party conversation: What does R = 0.785 tells you?** \n",
    "     * **You** : Ummm it's closer to 1? \n",
    "     * **Kian**: $R^2$ tells you much more info. What is the difference between R = 0.5 and R = 0.7?\n",
    "     * **You**: I don't care! I am not a...\n",
    "     * **Kian**: It doesn't tell you much. But the $R^2$ values for them are 0.25 and 0.49 respectively which means R = 0.7 is twice as good as R = 0.5.\n",
    "     * **You**: *finding dropped jaws*\n",
    "\n",
    "Now that I got your attention, let's move on with charting. "
   ]
  },
  {
   "cell_type": "code",
   "execution_count": null,
   "metadata": {
    "colab": {},
    "colab_type": "code",
    "id": "Ey7ulFh32-lR"
   },
   "outputs": [],
   "source": [
    "sns.regplot(data = econ_corr, x = 'Happiness Score', y = 'Economy (GDP per Capita)').set_title(\"Correlation graph for Happiness score vs Economy\")"
   ]
  },
  {
   "cell_type": "markdown",
   "metadata": {
    "colab_type": "text",
    "id": "lW-3Q4gg42EM"
   },
   "source": [
    "## Regression plot\n",
    "For regression plot you can just use sns.regplot and input in 3 components.\n",
    "1. Data\n",
    "2. What to put on x axis\n",
    "3. What to put on y axis\n",
    "\n",
    "We then set a title using set_title('blah blah blah')"
   ]
  },
  {
   "cell_type": "markdown",
   "metadata": {
    "colab_type": "text",
    "id": "OXPhcRts5cm4"
   },
   "source": [
    "# Exercise for you\n",
    "- I will like you to tell me the correlation coefficient (R and $R^2$) for the other 6 attributes and plot a regression plot for each of them. (Advance: Feel free to use correlation matrix)\n",
    "The 6 attributes you need to work on are:\n",
    "1. Family\n",
    "2. Health\n",
    "3. Freedom\n",
    "4. Trust (Government corruption)\n",
    "5. Generosity\n",
    "6. Dystopia residual\n",
    "\n",
    "- I need you to create a summary too and explain what you see. Words are important and needless to say is the key skill that will get you that job you want. "
   ]
  },
  {
   "cell_type": "markdown",
   "metadata": {
    "colab_type": "text",
    "id": "SG17aEoYjJJf"
   },
   "source": [
    "### Prasham's work: Relation between Economy and Happiness Score. **(Already done!)**\n",
    "  * correlation (R<sup>2</sup>) between Economy and Happiness Score.\n",
    "  * regression plot for Economy vs Happiness Score\n"
   ]
  },
  {
   "cell_type": "code",
   "execution_count": null,
   "metadata": {
    "colab": {},
    "colab_type": "code",
    "id": "CpPY-ZKBp2_q"
   },
   "outputs": [],
   "source": [
    "corr_econ = (data['Happiness Score'].corr(data['Economy (GDP per Capita)'])**2)\n",
    "print(\"Correlation Factor (R): \" + str(data['Happiness Score'].corr(data['Economy (GDP per Capita)'])))\n",
    "print(\"Factor Square (R^2): \" + str(data['Happiness Score'].corr(data['Economy (GDP per Capita)'])**2))"
   ]
  },
  {
   "cell_type": "code",
   "execution_count": null,
   "metadata": {
    "colab": {},
    "colab_type": "code",
    "id": "vlEgWuQYj19C"
   },
   "outputs": [],
   "source": [
    "sns.regplot(data = data, x = 'Happiness Score', y = 'Economy (GDP per Capita)', color=\"green\").set_title(\"Economy vs Happiness Score\")"
   ]
  },
  {
   "cell_type": "markdown",
   "metadata": {
    "colab_type": "text",
    "id": "hd-79U3PrRfz"
   },
   "source": [
    "### Relation between Family and Happiness Score.\n",
    "  * R<sup>2</sup>: Correlation between two factors.\n",
    "  * Regression Plot"
   ]
  },
  {
   "cell_type": "code",
   "execution_count": null,
   "metadata": {
    "colab": {},
    "colab_type": "code",
    "id": "AFz2YHrkrk44"
   },
   "outputs": [],
   "source": [
    "corr_family = data['Happiness Score'].corr(data['Family'])**2\n",
    "print(\"Correlation Factor (R): \" + str(data['Happiness Score'].corr(data['Family'])))\n",
    "print(\"Factor Square (R^2): \" + str(corr_family))\n",
    "sns.regplot(data = data, x = 'Happiness Score', y = 'Family', color=\"green\").set_title(\"Family vs Happiness Score\")"
   ]
  },
  {
   "cell_type": "markdown",
   "metadata": {
    "colab_type": "text",
    "id": "xZHrQrO_tADS"
   },
   "source": [
    "### Relation between Health (Life Expectancy) and Happiness Score.\n",
    "  * R2: Correlation between two factors.\n",
    "  * Regression Plot"
   ]
  },
  {
   "cell_type": "code",
   "execution_count": null,
   "metadata": {
    "colab": {},
    "colab_type": "code",
    "id": "ERooIbRftYCT"
   },
   "outputs": [],
   "source": [
    "corr_health = data['Happiness Score'].corr(data['Health (Life Expectancy)'])**2\n",
    "print(\"Correlation Factor (R): \" + str(data['Happiness Score'].corr(data['Health (Life Expectancy)'])))\n",
    "print(\"Factor Square (R^2): \" + str(corr_health))\n",
    "sns.regplot(data = data, x = 'Happiness Score', y = 'Health (Life Expectancy)', color=\"green\").set_title(\"Health vs Happiness Score\")"
   ]
  },
  {
   "cell_type": "markdown",
   "metadata": {
    "colab_type": "text",
    "id": "QSCHWIEAuU-c"
   },
   "source": [
    "### Relation between Freedom vs Happiness Score\n",
    "  * Corelation Factor\n",
    "  * Regression Plot"
   ]
  },
  {
   "cell_type": "code",
   "execution_count": null,
   "metadata": {
    "colab": {},
    "colab_type": "code",
    "id": "hFDDaxbEukKr"
   },
   "outputs": [],
   "source": [
    "corr_freedom = data['Happiness Score'].corr(data['Freedom'])**2\n",
    "print(\"Correlation Factor (R): \" + str(data['Happiness Score'].corr(data['Freedom'])))\n",
    "print(\"Factor Square (R^2): \" + str(corr_freedom))\n",
    "sns.regplot(data = data, x = 'Happiness Score', y = 'Freedom', color= 'orange').set_title(\"Freedom vs Happiness Score\")"
   ]
  },
  {
   "cell_type": "markdown",
   "metadata": {
    "colab_type": "text",
    "id": "u4_NauRyvKse"
   },
   "source": [
    "### Relation between Trust (Government Corruption) and Happiness Score\n",
    "  * Correlation Factor\n",
    "  * Regression Plot"
   ]
  },
  {
   "cell_type": "code",
   "execution_count": null,
   "metadata": {
    "colab": {},
    "colab_type": "code",
    "id": "bstwyI_UvWvY"
   },
   "outputs": [],
   "source": [
    "corr_government = data['Happiness Score'].corr(data['Trust (Government Corruption)'])**2\n",
    "print(\"Correlation Factor (R): \" + str(data['Happiness Score'].corr(data['Trust (Government Corruption)'])))\n",
    "print(\"Factor Square (R^2): \" + str(corr_government))\n",
    "sns.regplot(data = data, x = 'Happiness Score', y = 'Trust (Government Corruption)', color= 'red').set_title(\"Government Corruption vs Happiness Score\")"
   ]
  },
  {
   "cell_type": "markdown",
   "metadata": {
    "colab_type": "text",
    "id": "bLHnISiJwHbv"
   },
   "source": [
    "### Relation between Generosity and Happiness Score\n",
    "  * Correlation Factor\n",
    "  * Regession Plot"
   ]
  },
  {
   "cell_type": "code",
   "execution_count": null,
   "metadata": {
    "colab": {},
    "colab_type": "code",
    "id": "PjIPoCXh09vz"
   },
   "outputs": [],
   "source": [
    "corr_generosity = data['Happiness Score'].corr(data['Generosity'])**2\n",
    "print(\"Correlation Factor (R): \" + str(data['Happiness Score'].corr(data['Generosity'])))\n",
    "print(\"Factor Square (R^2): \" + str(corr_generosity))\n",
    "sns.regplot(data = data, x = 'Happiness Score', y = 'Generosity', color = 'red').set_title(\"Generosity vs Happiness Score\")"
   ]
  },
  {
   "cell_type": "markdown",
   "metadata": {
    "colab_type": "text",
    "id": "h6BZ6Nop0_XT"
   },
   "source": [
    "### Relation between Dystopia Residual and Happiness Score\n",
    "* Correlation Factor\n",
    "* Regression Plor"
   ]
  },
  {
   "cell_type": "code",
   "execution_count": null,
   "metadata": {
    "colab": {},
    "colab_type": "code",
    "id": "ieLQxdaD1Bl2"
   },
   "outputs": [],
   "source": [
    "corr_dys_res = data['Happiness Score'].corr(data['Dystopia Residual'])**2\n",
    "print(\"Correlation Factor (R): \" + str(data['Happiness Score'].corr(data['Dystopia Residual'])))\n",
    "print(\"Factor Square (R^2): \" + str(corr_dys_res))\n",
    "sns.regplot(data = data, x = 'Happiness Score', y = 'Dystopia Residual', color= 'orange').set_title(\"Dystopia Residual vs Happiness Score\")"
   ]
  },
  {
   "cell_type": "markdown",
   "metadata": {
    "colab_type": "text",
    "id": "L1xE8G8B1sa4"
   },
   "source": [
    "### My Summary\n",
    "As the square of correlation coefficient (R) is more significant for understanding, it is used for analysis.\n",
    "\n",
    "First let's take a look at all the R<sup>2</sup> coefficients:\n"
   ]
  },
  {
   "cell_type": "code",
   "execution_count": null,
   "metadata": {
    "colab": {},
    "colab_type": "code",
    "id": "6E4DE1zs2arM"
   },
   "outputs": [],
   "source": [
    "print(\"\"\"Economy vs Happiness Score: %.2f\n",
    "Family vs Happiness Score: %.2f\n",
    "Health vs Happiness Score: %.2f\n",
    "Freedom vs Happiness Score: %.2f\n",
    "Trust (Government) vs Happiness Score: %.2f\n",
    "Generosity vs Happiness Score: %.2f\n",
    "Dystopia Residual vs Happiness Score: %.2f\n",
    "\"\"\" % (corr_econ, corr_family, corr_health, corr_freedom, corr_government, corr_generosity, corr_dys_res))\n"
   ]
  },
  {
   "cell_type": "markdown",
   "metadata": {
    "colab_type": "text",
    "id": "9lEKQe213xj_"
   },
   "source": [
    "The following table will define the dependence of Happiness Score on various factors.\n",
    "\n",
    "|Sr_No | Strongly Dependent | Mild Dependent | Weakly Dependent |\n",
    "|---|----|----|----|\n",
    "| 1 | Economy (0.62) | Freedom (0.31) | Trust (Government) (0.08)|\n",
    "| 2 | Health (0.56) | Dystopia Residual (0.24) | Generosity (0.05)|\n",
    "| 3 | Family (0.41)"
   ]
  },
  {
   "cell_type": "markdown",
   "metadata": {
    "colab_type": "text",
    "id": "1DEv9YGUsSde"
   },
   "source": [
    "#### Economy (0.62)\n",
    "Happiness score is strongly related to the economy of the country. High economy could \n",
    "* mean higher living standards, \n",
    "* less economical disparity,\n",
    "* monetary satisfaction across all line of work.\n",
    "\n",
    "#### Health (0.56)\n",
    "Good health and access to adequate health plans can increase productive and satisfaction. Higher life expectancy also improves the happiness score.\n",
    "\n",
    "#### Family (0.41)\n",
    "Family indicator is related to economy, and health in such a way that, for high ranked countries, that is, countries with good economy and health, family indicator will also be high.\n",
    "\n",
    "People are happy when their family, friends and social connections are happy and in good economical and healthy countries, happiness score is high.\n",
    "\n",
    "#### Freedom (0.31)\n",
    "Though freedom contributes positively to happiness score, it still ranks below economy, health, and family.\n",
    "\n",
    "Freedom to express, to choose career, partner, faith are big factors that contribute to the overall happiness of an individual.\n",
    "\n",
    "#### Dystopia Residual (0.24)\n",
    "Dystopia - an imaginary country with all the lowest values of the indicators. Residual helps determine by how much a country is better on an indicator when compared to Dystopia?? (My conjecture)\n",
    "\n",
    "As this is a data based number, the dependency of the total score on it, is totally random. As per the data, happiness score mildly depends on the Dystopia Residual. Countries with averages further from Dystopia will have their happiness score higher?? \n",
    "\n",
    "#### Trust (Government) (0.08)\n",
    "Less corrupt and transparent government does boost up the happiness score, however, in relation to other indicators, Trust (Government) is a very weak factor to understand or sumrise happiness score.\n",
    "\n",
    "#### Generosity (0.05)\n",
    "Similar to Trust (Government), the generosity indicator also provides a vague idea of happiness score. \n",
    "\n",
    "One of the reason can be that: it is difficult to have objective values for these two indicators and due to being completely subjective their values might not have high variance.\n",
    "\n"
   ]
  }
 ],
 "metadata": {
  "colab": {
   "collapsed_sections": [
    "SG17aEoYjJJf",
    "hd-79U3PrRfz"
   ],
   "name": "Prasham's_week1_Happiness_Exercise.ipynb",
   "provenance": []
  },
  "kernelspec": {
   "display_name": "Python 3",
   "language": "python",
   "name": "python3"
  },
  "language_info": {
   "codemirror_mode": {
    "name": "ipython",
    "version": 3
   },
   "file_extension": ".py",
   "mimetype": "text/x-python",
   "name": "python",
   "nbconvert_exporter": "python",
   "pygments_lexer": "ipython3",
   "version": "3.7.4"
  }
 },
 "nbformat": 4,
 "nbformat_minor": 4
}
